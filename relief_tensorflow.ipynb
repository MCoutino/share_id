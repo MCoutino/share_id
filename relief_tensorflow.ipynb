{
  "nbformat": 4,
  "nbformat_minor": 0,
  "metadata": {
    "colab": {
      "name": "relief_tensorflow.ipynb",
      "provenance": [],
      "collapsed_sections": [],
      "authorship_tag": "ABX9TyMZYQHYe3ozMwFAG1MJXxBQ",
      "include_colab_link": true
    },
    "kernelspec": {
      "name": "python3",
      "display_name": "Python 3"
    }
  },
  "cells": [
    {
      "cell_type": "markdown",
      "metadata": {
        "id": "view-in-github",
        "colab_type": "text"
      },
      "source": [
        "<a href=\"https://colab.research.google.com/github/MCoutino/share_id/blob/master/relief_tensorflow.ipynb\" target=\"_parent\"><img src=\"https://colab.research.google.com/assets/colab-badge.svg\" alt=\"Open In Colab\"/></a>"
      ]
    },
    {
      "cell_type": "markdown",
      "metadata": {
        "id": "fn7ovWmP44Z1",
        "colab_type": "text"
      },
      "source": [
        "#TensorFlow Implementation of RELIEF "
      ]
    },
    {
      "cell_type": "markdown",
      "metadata": {
        "id": "45aa3GXP5JqV",
        "colab_type": "text"
      },
      "source": [
        "## Imports and Packages"
      ]
    },
    {
      "cell_type": "code",
      "metadata": {
        "id": "KOpaCwT64zg6",
        "colab_type": "code",
        "colab": {
          "base_uri": "https://localhost:8080/",
          "height": 34
        },
        "outputId": "7ccd78ba-2693-47f9-9d9d-fc1a8c447a03"
      },
      "source": [
        "import tensorflow as tf\n",
        "import numpy as np\n",
        "import matplotlib.pyplot as plt\n",
        "# checking GPUs\n",
        "print(tf.config.list_physical_devices('GPU'))"
      ],
      "execution_count": 1,
      "outputs": [
        {
          "output_type": "stream",
          "text": [
            "[]\n"
          ],
          "name": "stdout"
        }
      ]
    },
    {
      "cell_type": "code",
      "metadata": {
        "id": "4hQANf6Y5CI0",
        "colab_type": "code",
        "colab": {
          "base_uri": "https://localhost:8080/",
          "height": 156
        },
        "outputId": "495fa37b-1178-41ae-e413-f38408239938"
      },
      "source": [
        "# install pygsp toolbox\n",
        "!pip install pygsp\n",
        "\n",
        "# import pygsp toolbox\n",
        "import pygsp as gsp"
      ],
      "execution_count": 2,
      "outputs": [
        {
          "output_type": "stream",
          "text": [
            "Collecting pygsp\n",
            "\u001b[?25l  Downloading https://files.pythonhosted.org/packages/d4/89/2f4aa73cccf12bec5179ac5d52a68b508120c838b7e5d456f5ea0c8beade/PyGSP-0.5.1-py2.py3-none-any.whl (1.8MB)\n",
            "\u001b[K     |████████████████████████████████| 1.8MB 2.8MB/s \n",
            "\u001b[?25hRequirement already satisfied: scipy in /usr/local/lib/python3.6/dist-packages (from pygsp) (1.4.1)\n",
            "Requirement already satisfied: numpy in /usr/local/lib/python3.6/dist-packages (from pygsp) (1.18.4)\n",
            "Installing collected packages: pygsp\n",
            "Successfully installed pygsp-0.5.1\n"
          ],
          "name": "stdout"
        }
      ]
    },
    {
      "cell_type": "code",
      "metadata": {
        "id": "zW7dCoG05QGW",
        "colab_type": "code",
        "colab": {
          "base_uri": "https://localhost:8080/",
          "height": 190
        },
        "outputId": "e37934d6-cfb9-4ebd-a9b8-6abb553542e2"
      },
      "source": [
        "from google.colab import drive\n",
        "drive.mount('/content/drive')\n",
        "!ls /content/drive/My\\ Drive/Colab\\ Notebooks/*.py\n",
        "\n",
        "import sys\n",
        "sys.path.append('/content/drive/My Drive/Colab Notebooks')\n",
        "\n",
        "import gf_utils as utils\n",
        "import graphfilters_real as gf\n",
        "import graphfilters_complex as gfc\n",
        "import scheduler"
      ],
      "execution_count": 3,
      "outputs": [
        {
          "output_type": "stream",
          "text": [
            "Go to this URL in a browser: https://accounts.google.com/o/oauth2/auth?client_id=947318989803-6bn6qk8qdgf4n4g3pfee6491hc0brc4i.apps.googleusercontent.com&redirect_uri=urn%3aietf%3awg%3aoauth%3a2.0%3aoob&response_type=code&scope=email%20https%3a%2f%2fwww.googleapis.com%2fauth%2fdocs.test%20https%3a%2f%2fwww.googleapis.com%2fauth%2fdrive%20https%3a%2f%2fwww.googleapis.com%2fauth%2fdrive.photos.readonly%20https%3a%2f%2fwww.googleapis.com%2fauth%2fpeopleapi.readonly\n",
            "\n",
            "Enter your authorization code:\n",
            "··········\n",
            "Mounted at /content/drive\n",
            "'/content/drive/My Drive/Colab Notebooks/gf_utils.py'\n",
            "'/content/drive/My Drive/Colab Notebooks/graphfilters_complex.py'\n",
            "'/content/drive/My Drive/Colab Notebooks/graphfilters_real.py'\n",
            "'/content/drive/My Drive/Colab Notebooks/scheduler.py'\n"
          ],
          "name": "stdout"
        }
      ]
    },
    {
      "cell_type": "code",
      "metadata": {
        "id": "maSPtbm35SBq",
        "colab_type": "code",
        "colab": {
          "base_uri": "https://localhost:8080/",
          "height": 34
        },
        "outputId": "f4bca83d-5a9e-4d28-cc53-26f0c34388e5"
      },
      "source": [
        "import importlib\n",
        "importlib.reload(utils)\n",
        "importlib.reload(gf)\n",
        "importlib.reload(gfc)\n",
        "importlib.reload(scheduler)"
      ],
      "execution_count": 4,
      "outputs": [
        {
          "output_type": "execute_result",
          "data": {
            "text/plain": [
              "<module 'scheduler' from '/content/drive/My Drive/Colab Notebooks/scheduler.py'>"
            ]
          },
          "metadata": {
            "tags": []
          },
          "execution_count": 4
        }
      ]
    },
    {
      "cell_type": "code",
      "metadata": {
        "id": "h0NHJhCL5S2l",
        "colab_type": "code",
        "colab": {}
      },
      "source": [
        ""
      ],
      "execution_count": 0,
      "outputs": []
    },
    {
      "cell_type": "markdown",
      "metadata": {
        "id": "LxYJVDBZ6Bgx",
        "colab_type": "text"
      },
      "source": [
        "## RELIEF Class"
      ]
    },
    {
      "cell_type": "code",
      "metadata": {
        "id": "IktHKMZS6lXI",
        "colab_type": "code",
        "colab": {}
      },
      "source": [
        "class Relief:\n",
        "\n",
        "  def __init__(self, GSO, order, nlayers, gfType):\n",
        "    self.GSO = GSO\n",
        "    self.order = order\n",
        "    self.nlayers = nlayers\n",
        "    self.nnodes = GSO.shape[0]\n",
        "    self.layers = {}\n",
        "    self.layers_name = []\n",
        "    self._compiler_params = {}\n",
        "    self.loss_history = []\n",
        "    self.gfType = gfType\n",
        "    self.model = tf.keras.Sequential()\n",
        "    self._start_model()\n",
        "    self.set_model_compilation()\n",
        "    \n",
        "\n",
        "  def _create_layer(self, isFrozen=False, isFirst=False):\n",
        "    \"\"\"Creates a new GF layer and appended to the layers dict\n",
        "    \n",
        "    Returns:\n",
        "    layerID (str) : layer identifier\n",
        "    layer (GF) : newly created layer\n",
        "    \"\"\"\n",
        "\n",
        "    GFLayer = gf.GFLayers[self.gfType]\n",
        "\n",
        "    num_curr_layers = len(self.layers)\n",
        "    layerID = 'gf_' + str(num_curr_layers)\n",
        "    self.layers_name.append(layerID)\n",
        "    \n",
        "    layer = GFLayer(self.GSO, self.order)\n",
        "    layer._name = layerID;\n",
        "\n",
        "    self.layers[layerID] = layer\n",
        "    self._init_layer(layerID,isFirst)\n",
        "    if isFrozen:\n",
        "      self._freeze_layer(layerID)\n",
        "\n",
        "    return layerID, layer\n",
        "\n",
        "  def _start_model(self):\n",
        "    \"\"\"Starts the model for training. Input and first GF are concatenated\"\"\"\n",
        "    inputs = tf.keras.Input(shape=(self.nnodes,))\n",
        "    layerID, layer = self._create_layer(isFirst=True)\n",
        "    self.model.add(inputs)\n",
        "    self.model.add(layer)\n",
        "\n",
        "  def _init_C(self):\n",
        "    \"\"\"Returns the init vector for Classical GF, i.e., GF = I_mtx\"\"\"\n",
        "    one_vector = np.array([[1]])\n",
        "    zeros_matrix = np.zeros(shape=(1,self.order))\n",
        "    return np.concatenate([one_vector,zeros_matrix],axis=1)\n",
        "\n",
        "  def _init_NV(self):\n",
        "    \"\"\"Returns the init vector fo NV GF, i.e., GF = I_mtx\"\"\"\n",
        "    one_vector = np.ones(shape=(self.nnodes,1))\n",
        "    zeros_matrix = np.zeros(shape=(self.nnodes, self.order))\n",
        "    return np.concatenate([one_vector, zeros_matrix],axis=1)\n",
        "  \n",
        "  def _init_CEV(self):\n",
        "    \"\"\"Returns the init vector for CEV GF, i.e., GF = I_mtx\"\"\"\n",
        "    nnz_indices = self.GSO.indices\n",
        "    nnz = nnz_indices.shape[0]\n",
        "    zeros_matrix = np.zeros(shape=(nnz, self.order))\n",
        "    mask_vector = (nnz_indices[:,0]  == nnz_indices[:,1]).numpy()\n",
        "    one_vector = 1*mask_vector.reshape((nnz,1))\n",
        "\n",
        "    return np.concatenate([one_vector, zeros_matrix], axis=1)\n",
        "\n",
        "  def _init_layer(self, layerID, isFirst=False):\n",
        "    \"\"\"Initialize layer to default coefficients\"\"\"\n",
        "    initWeights = {'C'  : [self._init_C()],\n",
        "                   'NV' : [self._init_NV()],                   \n",
        "                   'CEV': [self._init_CEV()]}\n",
        "    if not isFirst:\n",
        "      self.layers[layerID].set_weights(initWeights[self.gfType])\n",
        "\n",
        "  def _freeze_layer(self, layerID):\n",
        "    \"\"\"Freezes layer <layerID>, making it untrainable\"\"\"\n",
        "    self.layers[layerID].trainable = False\n",
        "\n",
        "  def _make_layer_trainable(self, layerID):\n",
        "    \"\"\"Makes the layer <layerID> trainable\"\"\"\n",
        "    self.layers[layerID].trainable = True\n",
        "\n",
        "  def _fit_layer(self, x, y, layerID, batch_size = 32, epochs=1, verbose=0):\n",
        "    \"\"\"Fits the layer <layerID> to the data\n",
        "\n",
        "    Returns:\n",
        "    fitError (float) : Fitting error\n",
        "    \"\"\"\n",
        "    self._make_layer_trainable(layerID)\n",
        "    fitError = self._fit_model(x, y, batch_size, epochs, verbose)\n",
        "    self._freeze_layer(layerID)\n",
        "\n",
        "    return fitError\n",
        "\n",
        "  def _refit_procedure(self, x, y, layerID_left, layerID_right, \n",
        "                       tol, max_it, batch_size = 32, epochs = 1, verbose =0):\n",
        "    \"\"\"Refits the layers <layerID_left> and <layerID_right> until \n",
        "    convergence or maximum number of iteration is reached\n",
        "    \n",
        "    Returns:\n",
        "    fitError (float) : Fitting error\n",
        "    \"\"\"\n",
        "    fitError = 1000\n",
        "    num_it = 0\n",
        "    while tol < fitError and num_it < max_it:\n",
        "      num_it += 1\n",
        "\n",
        "      self._fit_layer(x, y, layerID_left,\n",
        "                      batch_size = batch_size,\n",
        "                      epochs = epochs,\n",
        "                      verbose = verbose)                       # provide lr?\n",
        "      fitError = self._fit_layer(x, y, layerID_right, \n",
        "                                 batch_size = batch_size,\n",
        "                                 epochs = epochs,\n",
        "                                 verbose = verbose)             # provide lr?\n",
        "\n",
        "      if num_it%5 == 1:\n",
        "        print('  Refit It: ' + str(num_it) + ', Loss: ' + str(fitError))\n",
        "\n",
        "    return fitError\n",
        "\n",
        "  def _fit_model(self, x, y, batch_size=32, epochs=1, verbose=0):\n",
        "    \"\"\"Base routine for fitting model\"\"\"\n",
        "\n",
        "    self.model.compile(optimizer = self._compiler_params['opt'],\n",
        "                       loss = self._compiler_params['loss'],\n",
        "                       metrics = self._compiler_params['metrics'])\n",
        "    \n",
        "    history = self.model.fit(x, y,\n",
        "                    batch_size = batch_size,\n",
        "                    epochs = epochs,\n",
        "                    verbose = verbose)\n",
        "    \n",
        "    fit_loss = history.history['loss']\n",
        "    self.loss_history.append(fit_loss)\n",
        "\n",
        "    return fit_loss[-1]\n",
        "\n",
        "  def fit_RELIEF(self, x, y, tol=1e-3, max_it=1e3,\n",
        "                 batch_size = 32, epochs_refit = 10, \n",
        "                 epochs_first = 1, verbose = 0):\n",
        "    \"\"\"Iteratively fits the cascaded GFs using the data-driven \n",
        "    version of RELIEF\n",
        "    \n",
        "    Returns:\n",
        "    fitError (float) : Fitting error\n",
        "    \"\"\"\n",
        "    print('Batch size: ' + str(batch_size) + \n",
        "          ', Epochs: (' + str(epochs_first) + ', ' + str(epochs_refit) + ')' +\n",
        "          ', Tol: ' + str(tol) + '; Max It: ' + str(max_it) + '\\n')\n",
        "\n",
        "    tf.keras.backend.clear_session()\n",
        "    # fitting first layer\n",
        "    layerID_right = self.layers_name[0]\n",
        "    fitError = self._fit_layer(x, y, layerID_right,\n",
        "                               batch_size = batch_size,\n",
        "                               epochs = epochs_first,\n",
        "                               verbose = verbose)\n",
        "\n",
        "    print('Depth: 1, Loss: ' + str(fitError))\n",
        "\n",
        "    while tol < fitError and len(self.layers) < self.nlayers:\n",
        "      layerID_left, layer = self._create_layer()\n",
        "      print(' ========================================================')\n",
        "      print(' Adding layer: ' + layerID_left)\n",
        "      print(' ========================================================')\n",
        "      self.model.add(layer)\n",
        "      fitError = self._refit_procedure(x, y, \n",
        "                                       layerID_left, \n",
        "                                       layerID_right, \n",
        "                                       tol, max_it,\n",
        "                                       batch_size = batch_size,\n",
        "                                       epochs = epochs_refit,\n",
        "                                       verbose = verbose)\n",
        "      print('Depth: ' + str(len(self.layers)), 'Loss: ' + str(fitError))\n",
        "\n",
        "    return fitError \n",
        "\n",
        "  def fine_tune_cascaded(self, x, y, batch_size=32, epochs=100, verbose=1):\n",
        "    \"\"\"Fine tunes the structure by adjusting all coefficients by \n",
        "    full backpropagation\"\"\"\n",
        "\n",
        "    for layerID in self.layers_name:\n",
        "      self._make_layer_trainable(layerID)\n",
        "\n",
        "    self._compiler_params['opt'] = tf.keras.optimizers.Adam(learning_rate=1e-6)\n",
        "\n",
        "    fitError = self._fit_model(x, y, \n",
        "                               batch_size=batch_size, \n",
        "                               epochs=epochs, \n",
        "                               verbose=verbose)    \n",
        "        \n",
        "      \n",
        "    return fitError\n",
        "\n",
        "  def set_model_compilation(self, optimizer=\"adam\", loss='mse', metrics=['mae']):\n",
        "    \"\"\"Define the default parameters for compiling the model\"\"\"\n",
        "    self._compiler_params['opt'] = optimizer\n",
        "    self._compiler_params['loss'] = loss\n",
        "    self._compiler_params['metrics'] = metrics"
      ],
      "execution_count": 0,
      "outputs": []
    },
    {
      "cell_type": "markdown",
      "metadata": {
        "id": "cbskhnlhwXVG",
        "colab_type": "text"
      },
      "source": [
        "## Extra helper functions"
      ]
    },
    {
      "cell_type": "code",
      "metadata": {
        "id": "YGkDhvzcuG1t",
        "colab_type": "code",
        "colab": {}
      },
      "source": [
        "def cascaded_to_operator(cascaded):\n",
        "  \"\"\"From a (linear) cascaded model, it obtains the matrix operator\"\"\"\n",
        "  I_mtx = tf.eye(cascaded.nnodes)\n",
        "  H = cascaded.model.predict(I_mtx)\n",
        "  return H"
      ],
      "execution_count": 0,
      "outputs": []
    },
    {
      "cell_type": "code",
      "metadata": {
        "id": "9xGBBv3mvq03",
        "colab_type": "code",
        "colab": {}
      },
      "source": [
        ""
      ],
      "execution_count": 0,
      "outputs": []
    },
    {
      "cell_type": "markdown",
      "metadata": {
        "id": "begXZjGSaI4R",
        "colab_type": "text"
      },
      "source": [
        "## Test for Relief"
      ]
    },
    {
      "cell_type": "markdown",
      "metadata": {
        "id": "Wkw9-ETgaO1X",
        "colab_type": "text"
      },
      "source": [
        "### Generate data"
      ]
    },
    {
      "cell_type": "code",
      "metadata": {
        "id": "SpsN93rWaQff",
        "colab_type": "code",
        "colab": {
          "base_uri": "https://localhost:8080/",
          "height": 51
        },
        "outputId": "ec81ae31-8b42-4d9e-ef5a-5531a3320b9d"
      },
      "source": [
        "NUM_NODES = 64;\n",
        "GSO, H, train_data = utils.gen_toy_data(NUM_NODES)\n",
        "print('Number of samples: ' + str(train_data[0].shape[0]))\n",
        "print('Number of Nodes: ' + str(train_data[0].shape[1]))"
      ],
      "execution_count": 7,
      "outputs": [
        {
          "output_type": "stream",
          "text": [
            "Number of samples: 131072\n",
            "Number of Nodes: 64\n"
          ],
          "name": "stdout"
        }
      ]
    },
    {
      "cell_type": "markdown",
      "metadata": {
        "id": "QMZlurUsfT0H",
        "colab_type": "text"
      },
      "source": [
        "### Create Cascade Structure"
      ]
    },
    {
      "cell_type": "code",
      "metadata": {
        "id": "4thhcOgYB9L0",
        "colab_type": "code",
        "colab": {}
      },
      "source": [
        "GFStruct = Relief(GSO, 2, 4, 'CEV')"
      ],
      "execution_count": 0,
      "outputs": []
    },
    {
      "cell_type": "code",
      "metadata": {
        "id": "qI0XetNG3ffp",
        "colab_type": "code",
        "colab": {
          "base_uri": "https://localhost:8080/",
          "height": 187
        },
        "outputId": "0b63021c-278f-4fc1-b07f-047eb58eadc8"
      },
      "source": [
        "GFStruct.model.summary()"
      ],
      "execution_count": 9,
      "outputs": [
        {
          "output_type": "stream",
          "text": [
            "Model: \"sequential\"\n",
            "_________________________________________________________________\n",
            "Layer (type)                 Output Shape              Param #   \n",
            "=================================================================\n",
            "gf_0 (GraphFilterLayer)      (None, 64)                2106      \n",
            "=================================================================\n",
            "Total params: 2,106\n",
            "Trainable params: 2,106\n",
            "Non-trainable params: 0\n",
            "_________________________________________________________________\n"
          ],
          "name": "stdout"
        }
      ]
    },
    {
      "cell_type": "markdown",
      "metadata": {
        "id": "GC6hRx3MfYkr",
        "colab_type": "text"
      },
      "source": [
        "### Fit Structure"
      ]
    },
    {
      "cell_type": "code",
      "metadata": {
        "id": "IxhCqep9B_RZ",
        "colab_type": "code",
        "colab": {
          "base_uri": "https://localhost:8080/",
          "height": 1000
        },
        "outputId": "f5048185-4228-44e2-af9e-7e219bf80597"
      },
      "source": [
        "x, y = train_data\n",
        "GFStruct.fit_RELIEF(x, y, max_it=11,verbose = 1, batch_size=1000)"
      ],
      "execution_count": 17,
      "outputs": [
        {
          "output_type": "stream",
          "text": [
            "Batch size: 1000, Epochs: (1, 10), Tol: 0.001; Max It: 11\n",
            "\n",
            "132/132 [==============================] - 1s 7ms/step - loss: 1.9991 - mae: 1.0100\n",
            "Depth: 1, Loss: 1.9991096258163452\n",
            " ========================================================\n",
            " Adding layer: gf_2\n",
            " ========================================================\n",
            "Epoch 1/10\n",
            "132/132 [==============================] - 1s 8ms/step - loss: 0.7197 - mae: 0.5863\n",
            "Epoch 2/10\n",
            "132/132 [==============================] - 1s 7ms/step - loss: 0.3202 - mae: 0.4022\n",
            "Epoch 3/10\n",
            "132/132 [==============================] - 1s 7ms/step - loss: 0.2379 - mae: 0.3466\n",
            "Epoch 4/10\n",
            "132/132 [==============================] - 1s 7ms/step - loss: 0.1909 - mae: 0.3108\n",
            "Epoch 5/10\n",
            "132/132 [==============================] - 1s 7ms/step - loss: 0.1588 - mae: 0.2844\n",
            "Epoch 6/10\n",
            "132/132 [==============================] - 1s 7ms/step - loss: 0.1345 - mae: 0.2627\n",
            "Epoch 7/10\n",
            "132/132 [==============================] - 1s 7ms/step - loss: 0.1172 - mae: 0.2462\n",
            "Epoch 8/10\n",
            "132/132 [==============================] - 1s 7ms/step - loss: 0.1051 - mae: 0.2329\n",
            "Epoch 9/10\n",
            "132/132 [==============================] - 1s 7ms/step - loss: 0.0932 - mae: 0.2196\n",
            "Epoch 10/10\n",
            "132/132 [==============================] - 1s 7ms/step - loss: 0.0855 - mae: 0.2105\n",
            "Epoch 1/10\n",
            "132/132 [==============================] - 1s 8ms/step - loss: 0.2848 - mae: 0.2782\n",
            "Epoch 2/10\n",
            "132/132 [==============================] - 1s 8ms/step - loss: 0.0431 - mae: 0.1420\n",
            "Epoch 3/10\n",
            "132/132 [==============================] - 1s 8ms/step - loss: 0.0375 - mae: 0.1326\n",
            "Epoch 4/10\n",
            "132/132 [==============================] - 1s 7ms/step - loss: 0.0339 - mae: 0.1263\n",
            "Epoch 5/10\n",
            "132/132 [==============================] - 1s 7ms/step - loss: 0.0309 - mae: 0.1211\n",
            "Epoch 6/10\n",
            "132/132 [==============================] - 1s 7ms/step - loss: 0.0296 - mae: 0.1198\n",
            "Epoch 7/10\n",
            "132/132 [==============================] - 1s 7ms/step - loss: 0.0299 - mae: 0.1215\n",
            "Epoch 8/10\n",
            "132/132 [==============================] - 1s 7ms/step - loss: 0.0249 - mae: 0.1097\n",
            "Epoch 9/10\n",
            "132/132 [==============================] - 1s 8ms/step - loss: 0.0271 - mae: 0.1164\n",
            "Epoch 10/10\n",
            "132/132 [==============================] - 1s 7ms/step - loss: 0.0261 - mae: 0.1120\n",
            "  Refit It: 1, Loss: 0.026144837960600853\n",
            "Epoch 1/10\n",
            "132/132 [==============================] - 1s 8ms/step - loss: 0.2642 - mae: 0.2601\n",
            "Epoch 2/10\n",
            "132/132 [==============================] - 1s 7ms/step - loss: 0.0187 - mae: 0.0946\n",
            "Epoch 3/10\n",
            "132/132 [==============================] - 1s 7ms/step - loss: 0.0152 - mae: 0.0834\n",
            "Epoch 4/10\n",
            "132/132 [==============================] - 1s 7ms/step - loss: 0.0138 - mae: 0.0792\n",
            "Epoch 5/10\n",
            "132/132 [==============================] - 1s 7ms/step - loss: 0.0126 - mae: 0.0758\n",
            "Epoch 6/10\n",
            "132/132 [==============================] - 1s 7ms/step - loss: 0.0119 - mae: 0.0739\n",
            "Epoch 7/10\n",
            "132/132 [==============================] - 1s 7ms/step - loss: 0.0118 - mae: 0.0742\n",
            "Epoch 8/10\n",
            "132/132 [==============================] - 1s 7ms/step - loss: 0.0120 - mae: 0.0755\n",
            "Epoch 9/10\n",
            "132/132 [==============================] - 1s 7ms/step - loss: 0.0109 - mae: 0.0719\n",
            "Epoch 10/10\n",
            "132/132 [==============================] - 1s 7ms/step - loss: 0.0110 - mae: 0.0722\n",
            "Epoch 1/10\n",
            "132/132 [==============================] - 1s 8ms/step - loss: 0.2017 - mae: 0.1949\n",
            "Epoch 2/10\n",
            "132/132 [==============================] - 1s 8ms/step - loss: 0.0061 - mae: 0.0526\n",
            "Epoch 3/10\n",
            "132/132 [==============================] - 1s 8ms/step - loss: 0.0053 - mae: 0.0488\n",
            "Epoch 4/10\n",
            "132/132 [==============================] - 1s 7ms/step - loss: 0.0049 - mae: 0.0469\n",
            "Epoch 5/10\n",
            "132/132 [==============================] - 1s 7ms/step - loss: 0.0047 - mae: 0.0465\n",
            "Epoch 6/10\n",
            "132/132 [==============================] - 1s 7ms/step - loss: 0.0053 - mae: 0.0494\n",
            "Epoch 7/10\n",
            "132/132 [==============================] - 1s 7ms/step - loss: 0.0076 - mae: 0.0566\n",
            "Epoch 8/10\n",
            "132/132 [==============================] - 1s 7ms/step - loss: 0.0041 - mae: 0.0443\n",
            "Epoch 9/10\n",
            "132/132 [==============================] - 1s 7ms/step - loss: 0.0083 - mae: 0.0599\n",
            "Epoch 10/10\n",
            "132/132 [==============================] - 1s 7ms/step - loss: 0.0045 - mae: 0.0466\n",
            "Epoch 1/10\n",
            "132/132 [==============================] - 1s 7ms/step - loss: 0.2552 - mae: 0.2453\n",
            "Epoch 2/10\n",
            "132/132 [==============================] - 1s 7ms/step - loss: 0.0083 - mae: 0.0651\n",
            "Epoch 3/10\n",
            "132/132 [==============================] - 1s 7ms/step - loss: 0.0055 - mae: 0.0529\n",
            "Epoch 4/10\n",
            "132/132 [==============================] - 1s 7ms/step - loss: 0.0045 - mae: 0.0481\n",
            "Epoch 5/10\n",
            "132/132 [==============================] - 1s 7ms/step - loss: 0.0055 - mae: 0.0526\n",
            "Epoch 6/10\n",
            "132/132 [==============================] - 1s 7ms/step - loss: 0.0046 - mae: 0.0470\n",
            "Epoch 7/10\n",
            "132/132 [==============================] - 1s 7ms/step - loss: 0.0039 - mae: 0.0446\n",
            "Epoch 8/10\n",
            "132/132 [==============================] - 1s 7ms/step - loss: 0.0055 - mae: 0.0505\n",
            "Epoch 9/10\n",
            "132/132 [==============================] - 1s 7ms/step - loss: 0.0046 - mae: 0.0460\n",
            "Epoch 10/10\n",
            "132/132 [==============================] - 1s 7ms/step - loss: 0.0035 - mae: 0.0425\n",
            "Epoch 1/10\n",
            "132/132 [==============================] - 1s 7ms/step - loss: 0.1914 - mae: 0.1749\n",
            "Epoch 2/10\n",
            "132/132 [==============================] - 1s 7ms/step - loss: 0.0023 - mae: 0.0337\n",
            "Epoch 3/10\n",
            "132/132 [==============================] - 1s 7ms/step - loss: 0.0019 - mae: 0.0303\n",
            "Epoch 4/10\n",
            "132/132 [==============================] - 1s 7ms/step - loss: 0.0017 - mae: 0.0287\n",
            "Epoch 5/10\n",
            "132/132 [==============================] - 1s 7ms/step - loss: 0.0016 - mae: 0.0278\n",
            "Epoch 6/10\n",
            "132/132 [==============================] - 1s 7ms/step - loss: 0.0016 - mae: 0.0275\n",
            "Epoch 7/10\n",
            "132/132 [==============================] - 1s 8ms/step - loss: 0.0016 - mae: 0.0282\n",
            "Epoch 8/10\n",
            "132/132 [==============================] - 1s 8ms/step - loss: 0.0023 - mae: 0.0334\n",
            "Epoch 9/10\n",
            "132/132 [==============================] - 1s 8ms/step - loss: 0.0020 - mae: 0.0310\n",
            "Epoch 10/10\n",
            "132/132 [==============================] - 1s 8ms/step - loss: 0.0030 - mae: 0.0378\n",
            "Epoch 1/10\n",
            "132/132 [==============================] - 1s 7ms/step - loss: 0.1746 - mae: 0.1954\n",
            "Epoch 2/10\n",
            "132/132 [==============================] - 1s 7ms/step - loss: 0.0050 - mae: 0.0516\n",
            "Epoch 3/10\n",
            "132/132 [==============================] - 1s 7ms/step - loss: 0.0033 - mae: 0.0421\n",
            "Epoch 4/10\n",
            "132/132 [==============================] - 1s 7ms/step - loss: 0.0028 - mae: 0.0384\n",
            "Epoch 5/10\n",
            "132/132 [==============================] - 1s 7ms/step - loss: 0.0027 - mae: 0.0374\n",
            "Epoch 6/10\n",
            "132/132 [==============================] - 1s 7ms/step - loss: 0.0027 - mae: 0.0371\n",
            "Epoch 7/10\n",
            "132/132 [==============================] - 1s 7ms/step - loss: 0.0027 - mae: 0.0370\n",
            "Epoch 8/10\n",
            "132/132 [==============================] - 1s 7ms/step - loss: 0.0027 - mae: 0.0371\n",
            "Epoch 9/10\n",
            "132/132 [==============================] - 1s 7ms/step - loss: 0.0026 - mae: 0.0365\n",
            "Epoch 10/10\n",
            "132/132 [==============================] - 1s 7ms/step - loss: 0.0027 - mae: 0.0375\n",
            "Epoch 1/10\n",
            "132/132 [==============================] - 1s 8ms/step - loss: 0.1200 - mae: 0.1437\n",
            "Epoch 2/10\n",
            "132/132 [==============================] - 1s 7ms/step - loss: 0.0013 - mae: 0.0251\n",
            "Epoch 3/10\n",
            "132/132 [==============================] - 1s 8ms/step - loss: 9.7985e-04 - mae: 0.0217\n",
            "Epoch 4/10\n",
            "132/132 [==============================] - 1s 8ms/step - loss: 8.8734e-04 - mae: 0.0207\n",
            "Epoch 5/10\n",
            "132/132 [==============================] - 1s 7ms/step - loss: 0.0019 - mae: 0.0257\n",
            "Epoch 6/10\n",
            "132/132 [==============================] - 1s 8ms/step - loss: 0.0014 - mae: 0.0236\n",
            "Epoch 7/10\n",
            "132/132 [==============================] - 1s 8ms/step - loss: 0.0014 - mae: 0.0251\n",
            "Epoch 8/10\n",
            "132/132 [==============================] - 1s 7ms/step - loss: 0.0059 - mae: 0.0402\n",
            "Epoch 9/10\n",
            "132/132 [==============================] - 1s 8ms/step - loss: 7.2693e-04 - mae: 0.0188\n",
            "Epoch 10/10\n",
            "132/132 [==============================] - 1s 7ms/step - loss: 0.0038 - mae: 0.0356\n",
            "Epoch 1/10\n",
            "132/132 [==============================] - 1s 7ms/step - loss: 0.1369 - mae: 0.1814\n",
            "Epoch 2/10\n",
            "132/132 [==============================] - 1s 7ms/step - loss: 0.0060 - mae: 0.0565\n",
            "Epoch 3/10\n",
            "132/132 [==============================] - 1s 7ms/step - loss: 0.0048 - mae: 0.0501\n",
            "Epoch 4/10\n",
            "132/132 [==============================] - 1s 7ms/step - loss: 0.0043 - mae: 0.0475\n",
            "Epoch 5/10\n",
            "132/132 [==============================] - 1s 7ms/step - loss: 0.0041 - mae: 0.0463\n",
            "Epoch 6/10\n",
            "132/132 [==============================] - 1s 7ms/step - loss: 0.0040 - mae: 0.0459\n",
            "Epoch 7/10\n",
            "132/132 [==============================] - 1s 7ms/step - loss: 0.0041 - mae: 0.0469\n",
            "Epoch 8/10\n",
            "132/132 [==============================] - 1s 7ms/step - loss: 0.0039 - mae: 0.0457\n",
            "Epoch 9/10\n",
            "132/132 [==============================] - 1s 7ms/step - loss: 0.0042 - mae: 0.0475\n",
            "Epoch 10/10\n",
            "132/132 [==============================] - 1s 7ms/step - loss: 0.0047 - mae: 0.0494\n",
            "Epoch 1/10\n",
            "132/132 [==============================] - 1s 7ms/step - loss: 0.0959 - mae: 0.1293\n",
            "Epoch 2/10\n",
            "132/132 [==============================] - 1s 8ms/step - loss: 9.4881e-04 - mae: 0.0222\n",
            "Epoch 3/10\n",
            "132/132 [==============================] - 1s 7ms/step - loss: 7.5748e-04 - mae: 0.0197\n",
            "Epoch 4/10\n",
            "132/132 [==============================] - 1s 8ms/step - loss: 6.7907e-04 - mae: 0.0186\n",
            "Epoch 5/10\n",
            "132/132 [==============================] - 1s 7ms/step - loss: 0.0010 - mae: 0.0211\n",
            "Epoch 6/10\n",
            "132/132 [==============================] - 1s 7ms/step - loss: 0.0010 - mae: 0.0214\n",
            "Epoch 7/10\n",
            "132/132 [==============================] - 1s 7ms/step - loss: 0.0028 - mae: 0.0307\n",
            "Epoch 8/10\n",
            "132/132 [==============================] - 1s 7ms/step - loss: 6.2226e-04 - mae: 0.0178\n",
            "Epoch 9/10\n",
            "132/132 [==============================] - 1s 7ms/step - loss: 0.0032 - mae: 0.0349\n",
            "Epoch 10/10\n",
            "132/132 [==============================] - 1s 7ms/step - loss: 0.0028 - mae: 0.0288\n",
            "Epoch 1/10\n",
            "132/132 [==============================] - 1s 7ms/step - loss: 0.0921 - mae: 0.1509\n",
            "Epoch 2/10\n",
            "132/132 [==============================] - 1s 7ms/step - loss: 0.0037 - mae: 0.0444\n",
            "Epoch 3/10\n",
            "132/132 [==============================] - 1s 7ms/step - loss: 0.0031 - mae: 0.0401\n",
            "Epoch 4/10\n",
            "132/132 [==============================] - 1s 7ms/step - loss: 0.0028 - mae: 0.0380\n",
            "Epoch 5/10\n",
            "132/132 [==============================] - 1s 7ms/step - loss: 0.0030 - mae: 0.0381\n",
            "Epoch 6/10\n",
            "132/132 [==============================] - 1s 7ms/step - loss: 0.0031 - mae: 0.0396\n",
            "Epoch 7/10\n",
            "132/132 [==============================] - 1s 7ms/step - loss: 0.0026 - mae: 0.0363\n",
            "Epoch 8/10\n",
            "132/132 [==============================] - 1s 7ms/step - loss: 0.0026 - mae: 0.0367\n",
            "Epoch 9/10\n",
            "132/132 [==============================] - 1s 7ms/step - loss: 0.0039 - mae: 0.0425\n",
            "Epoch 10/10\n",
            "132/132 [==============================] - 1s 7ms/step - loss: 0.0026 - mae: 0.0367\n",
            "Epoch 1/10\n",
            "132/132 [==============================] - 1s 7ms/step - loss: 0.0772 - mae: 0.1062\n",
            "Epoch 2/10\n",
            "132/132 [==============================] - 1s 7ms/step - loss: 6.6312e-04 - mae: 0.0187\n",
            "Epoch 3/10\n",
            "132/132 [==============================] - 1s 7ms/step - loss: 5.2933e-04 - mae: 0.0166\n",
            "Epoch 4/10\n",
            "132/132 [==============================] - 1s 7ms/step - loss: 4.6884e-04 - mae: 0.0156\n",
            "Epoch 5/10\n",
            "132/132 [==============================] - 1s 7ms/step - loss: 4.3421e-04 - mae: 0.0150\n",
            "Epoch 6/10\n",
            "132/132 [==============================] - 1s 7ms/step - loss: 9.9373e-04 - mae: 0.0211\n",
            "Epoch 7/10\n",
            "132/132 [==============================] - 1s 7ms/step - loss: 4.4361e-04 - mae: 0.0152\n",
            "Epoch 8/10\n",
            "132/132 [==============================] - 1s 7ms/step - loss: 0.0017 - mae: 0.0277\n",
            "Epoch 9/10\n",
            "132/132 [==============================] - 1s 7ms/step - loss: 5.9209e-04 - mae: 0.0173\n",
            "Epoch 10/10\n",
            "132/132 [==============================] - 1s 7ms/step - loss: 0.0017 - mae: 0.0275\n",
            "  Refit It: 6, Loss: 0.001704118913039565\n",
            "Epoch 1/10\n",
            "132/132 [==============================] - 1s 7ms/step - loss: 0.0915 - mae: 0.1593\n",
            "Epoch 2/10\n",
            "132/132 [==============================] - 1s 7ms/step - loss: 0.0065 - mae: 0.0582\n",
            "Epoch 3/10\n",
            "132/132 [==============================] - 1s 7ms/step - loss: 0.0045 - mae: 0.0487\n",
            "Epoch 4/10\n",
            "132/132 [==============================] - 1s 7ms/step - loss: 0.0040 - mae: 0.0462\n",
            "Epoch 5/10\n",
            "132/132 [==============================] - 1s 7ms/step - loss: 0.0036 - mae: 0.0444\n",
            "Epoch 6/10\n",
            "132/132 [==============================] - 1s 7ms/step - loss: 0.0031 - mae: 0.0414\n",
            "Epoch 7/10\n",
            "132/132 [==============================] - 1s 7ms/step - loss: 0.0033 - mae: 0.0418\n",
            "Epoch 8/10\n",
            "132/132 [==============================] - 1s 7ms/step - loss: 0.0030 - mae: 0.0404\n",
            "Epoch 9/10\n",
            "132/132 [==============================] - 1s 7ms/step - loss: 0.0034 - mae: 0.0428\n",
            "Epoch 10/10\n",
            "132/132 [==============================] - 1s 7ms/step - loss: 0.0030 - mae: 0.0403\n",
            "Epoch 1/10\n",
            "132/132 [==============================] - 1s 7ms/step - loss: 0.0697 - mae: 0.1019\n",
            "Epoch 2/10\n",
            "132/132 [==============================] - 1s 7ms/step - loss: 5.8522e-04 - mae: 0.0178\n",
            "Epoch 3/10\n",
            "132/132 [==============================] - 1s 7ms/step - loss: 4.6944e-04 - mae: 0.0159\n",
            "Epoch 4/10\n",
            "132/132 [==============================] - 1s 7ms/step - loss: 4.1543e-04 - mae: 0.0150\n",
            "Epoch 5/10\n",
            "132/132 [==============================] - 1s 7ms/step - loss: 4.9331e-04 - mae: 0.0159\n",
            "Epoch 6/10\n",
            "132/132 [==============================] - 1s 7ms/step - loss: 6.8990e-04 - mae: 0.0186\n",
            "Epoch 7/10\n",
            "132/132 [==============================] - 1s 7ms/step - loss: 8.2623e-04 - mae: 0.0190\n",
            "Epoch 8/10\n",
            "132/132 [==============================] - 1s 7ms/step - loss: 9.4316e-04 - mae: 0.0198\n",
            "Epoch 9/10\n",
            "132/132 [==============================] - 1s 7ms/step - loss: 7.1128e-04 - mae: 0.0185\n",
            "Epoch 10/10\n",
            "132/132 [==============================] - 1s 7ms/step - loss: 0.0024 - mae: 0.0275\n",
            "Epoch 1/10\n",
            "132/132 [==============================] - 1s 7ms/step - loss: 0.0641 - mae: 0.1185\n",
            "Epoch 2/10\n",
            "132/132 [==============================] - 1s 7ms/step - loss: 0.0016 - mae: 0.0276\n",
            "Epoch 3/10\n",
            "132/132 [==============================] - 1s 7ms/step - loss: 0.0010 - mae: 0.0227\n",
            "Epoch 4/10\n",
            "132/132 [==============================] - 1s 7ms/step - loss: 0.0011 - mae: 0.0229\n",
            "Epoch 5/10\n",
            "132/132 [==============================] - 1s 7ms/step - loss: 0.0011 - mae: 0.0219\n",
            "Epoch 6/10\n",
            "132/132 [==============================] - 1s 7ms/step - loss: 0.0017 - mae: 0.0261\n",
            "Epoch 7/10\n",
            "132/132 [==============================] - 1s 7ms/step - loss: 8.2599e-04 - mae: 0.0194\n",
            "Epoch 8/10\n",
            "132/132 [==============================] - 1s 7ms/step - loss: 0.0016 - mae: 0.0258\n",
            "Epoch 9/10\n",
            "132/132 [==============================] - 1s 7ms/step - loss: 0.0015 - mae: 0.0267\n",
            "Epoch 10/10\n",
            "132/132 [==============================] - 1s 7ms/step - loss: 0.0011 - mae: 0.0216\n",
            "Epoch 1/10\n",
            "132/132 [==============================] - 1s 7ms/step - loss: 0.0609 - mae: 0.1010\n",
            "Epoch 2/10\n",
            "132/132 [==============================] - 1s 7ms/step - loss: 3.5615e-04 - mae: 0.0138\n",
            "Epoch 3/10\n",
            "132/132 [==============================] - 1s 7ms/step - loss: 2.6453e-04 - mae: 0.0119\n",
            "Epoch 4/10\n",
            "132/132 [==============================] - 1s 7ms/step - loss: 2.3351e-04 - mae: 0.0111\n",
            "Epoch 5/10\n",
            "132/132 [==============================] - 1s 7ms/step - loss: 2.2739e-04 - mae: 0.0110\n",
            "Epoch 6/10\n",
            "132/132 [==============================] - 1s 7ms/step - loss: 2.1755e-04 - mae: 0.0107\n",
            "Epoch 7/10\n",
            "132/132 [==============================] - 1s 7ms/step - loss: 0.0011 - mae: 0.0165\n",
            "Epoch 8/10\n",
            "132/132 [==============================] - 1s 7ms/step - loss: 1.8674e-04 - mae: 0.0099\n",
            "Epoch 9/10\n",
            "132/132 [==============================] - 1s 7ms/step - loss: 2.0441e-04 - mae: 0.0102\n",
            "Epoch 10/10\n",
            "132/132 [==============================] - 1s 7ms/step - loss: 6.9384e-04 - mae: 0.0154\n",
            "Depth: 3 Loss: 0.0006938428850844502\n"
          ],
          "name": "stdout"
        },
        {
          "output_type": "execute_result",
          "data": {
            "text/plain": [
              "0.0006938428850844502"
            ]
          },
          "metadata": {
            "tags": []
          },
          "execution_count": 17
        }
      ]
    },
    {
      "cell_type": "code",
      "metadata": {
        "id": "i2GthIGtC2Yi",
        "colab_type": "code",
        "colab": {
          "base_uri": "https://localhost:8080/",
          "height": 265
        },
        "outputId": "b3ab06b5-0fbb-4d18-ff02-db3fd35e1055"
      },
      "source": [
        "plt.plot(np.concatenate(GFStruct.loss_history))\n",
        "plt.yscale('log')"
      ],
      "execution_count": 18,
      "outputs": [
        {
          "output_type": "display_data",
          "data": {
            "image/png": "[encoded data removed]",
            "text/plain": [
              "<Figure size 432x288 with 1 Axes>"
            ]
          },
          "metadata": {
            "tags": [],
            "needs_background": "light"
          }
        }
      ]
    },
    {
      "cell_type": "code",
      "metadata": {
        "id": "o13knXCiJEh4",
        "colab_type": "code",
        "colab": {}
      },
      "source": [
        "GFStruct.loss_history"
      ],
      "execution_count": 0,
      "outputs": []
    },
    {
      "cell_type": "markdown",
      "metadata": {
        "id": "7wKhfIHFfcdK",
        "colab_type": "text"
      },
      "source": [
        "### Fine tunning"
      ]
    },
    {
      "cell_type": "code",
      "metadata": {
        "id": "Z_gaWiHkDA8l",
        "colab_type": "code",
        "colab": {
          "base_uri": "https://localhost:8080/",
          "height": 102
        },
        "outputId": "ad4fad36-e852-4f56-972a-2362311de9a3"
      },
      "source": [
        "GFStruct.fine_tune_cascaded(x, y, batch_size=1000, epochs=100, verbose=1)\n",
        "GFStruct.fine_tune_cascaded(x, y, batch_size=5000, epochs=50, verbose=1)\n",
        "GFStruct.fine_tune_cascaded(x, y, batch_size=20000, epochs=20, verbose=1)\n",
        "GFStruct.fine_tune_cascaded(x, y, batch_size=60000, epochs=2, verbose=1)"
      ],
      "execution_count": 25,
      "outputs": [
        {
          "output_type": "stream",
          "text": [
            "Epoch 1/2\n",
            "3/3 [==============================] - 1s 170ms/step - loss: 7.0973e-05 - mae: 0.0058\n",
            "Epoch 2/2\n",
            "3/3 [==============================] - 0s 165ms/step - loss: 7.0859e-05 - mae: 0.0058\n"
          ],
          "name": "stdout"
        },
        {
          "output_type": "execute_result",
          "data": {
            "text/plain": [
              "7.085854304023087e-05"
            ]
          },
          "metadata": {
            "tags": []
          },
          "execution_count": 25
        }
      ]
    },
    {
      "cell_type": "code",
      "metadata": {
        "id": "cN5_-TQje7YD",
        "colab_type": "code",
        "colab": {
          "base_uri": "https://localhost:8080/",
          "height": 265
        },
        "outputId": "c4432382-17e0-4060-9ffd-7a8138d695eb"
      },
      "source": [
        "plt.plot(np.concatenate(GFStruct.loss_history))\n",
        "plt.yscale('log')"
      ],
      "execution_count": 26,
      "outputs": [
        {
          "output_type": "display_data",
          "data": {
            "image/png": "[encoded data removed]",
            "text/plain": [
              "<Figure size 432x288 with 1 Axes>"
            ]
          },
          "metadata": {
            "tags": [],
            "needs_background": "light"
          }
        }
      ]
    },
    {
      "cell_type": "code",
      "metadata": {
        "id": "mHx9cOPvu3Am",
        "colab_type": "code",
        "colab": {
          "base_uri": "https://localhost:8080/",
          "height": 187
        },
        "outputId": "bf1ba761-b320-4c62-89ef-6197f396b177"
      },
      "source": [
        "Hest = cascaded_to_operator(GFStruct)\n",
        "print(Hest[:5,:5])\n",
        "print(H[:5,:5])"
      ],
      "execution_count": 27,
      "outputs": [
        {
          "output_type": "stream",
          "text": [
            "[[0.99916965 1.0003645  0.9997988  0.9998441  0.9991241 ]\n",
            " [1.0007527  1.0007396  0.99866134 1.0028278  1.0030215 ]\n",
            " [0.9988589  0.99993956 0.9977017  1.0053843  1.0012548 ]\n",
            " [1.0024431  0.99956733 0.99740493 1.0011684  0.99936295]\n",
            " [0.9987333  0.99814886 0.9988139  0.9984292  0.9994299 ]]\n",
            "[[1. 1. 1. 1. 1.]\n",
            " [1. 1. 1. 1. 1.]\n",
            " [1. 1. 1. 1. 1.]\n",
            " [1. 1. 1. 1. 1.]\n",
            " [1. 1. 1. 1. 1.]]\n"
          ],
          "name": "stdout"
        }
      ]
    },
    {
      "cell_type": "code",
      "metadata": {
        "id": "VCdJQc8u5Xf2",
        "colab_type": "code",
        "colab": {
          "base_uri": "https://localhost:8080/",
          "height": 34
        },
        "outputId": "74b2dce3-8f0a-4e70-adb9-752577c1ae86"
      },
      "source": [
        "yest = GFStruct.model.predict(x)\n",
        "print('Error:' + str(1/NUM_NODES * np.linalg.norm(yest[1,:] - y[1,:])))"
      ],
      "execution_count": 36,
      "outputs": [
        {
          "output_type": "stream",
          "text": [
            "Error:0.0009637450023681819\n"
          ],
          "name": "stdout"
        }
      ]
    }
  ]
}